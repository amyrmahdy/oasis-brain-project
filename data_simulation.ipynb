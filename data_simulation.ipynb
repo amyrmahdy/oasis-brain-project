{
  "cells": [
    {
      "cell_type": "code",
      "execution_count": 22,
      "metadata": {
        "id": "Nv6kc4-JHCKg"
      },
      "outputs": [],
      "source": [
        "import warnings\n",
        "import numpy as np\n",
        "import pandas as pd\n",
        "import tensorflow as tf\n",
        "from sklearn.svm import LinearSVC\n",
        "from sklearn.preprocessing import MinMaxScaler\n",
        "from sklearn.ensemble import RandomForestClassifier\n",
        "from sklearn.linear_model import LogisticRegression\n",
        "from sklearn.model_selection import GroupShuffleSplit\n",
        "from keras.preprocessing.sequence import TimeseriesGenerator\n",
        "from sklearn.metrics import f1_score, classification_report, confusion_matrix, ConfusionMatrixDisplay\n",
        "import scipy.special"
      ]
    },
    {
      "cell_type": "code",
      "execution_count": 23,
      "metadata": {},
      "outputs": [],
      "source": [
        "warnings.filterwarnings(action = 'ignore')"
      ]
    },
    {
      "cell_type": "code",
      "execution_count": 24,
      "metadata": {},
      "outputs": [],
      "source": [
        "# # issue\n",
        "# X_train.ID.unique().shape"
      ]
    },
    {
      "attachments": {},
      "cell_type": "markdown",
      "metadata": {},
      "source": [
        "# LSTM\n"
      ]
    },
    {
      "cell_type": "code",
      "execution_count": 25,
      "metadata": {
        "colab": {
          "base_uri": "https://localhost:8080/",
          "height": 380
        },
        "id": "uF1gd90XHCKn",
        "outputId": "96179e1b-38c0-426e-d1d4-0bfcb88798d3"
      },
      "outputs": [],
      "source": [
        "orginal_data = pd.read_csv(\"oasis_longitudinal.csv\")\n",
        "mu_eTIV, sigma_eTIV = orginal_data['eTIV'].mean(), orginal_data['eTIV'].var()\n",
        "mu_MMSE, sigma_MMSE = orginal_data['MMSE'].mean(), orginal_data['MMSE'].var()\n",
        "mu_EDUC, sigma_EDUC = orginal_data['EDUC'].mean(), orginal_data['EDUC'].var()\n",
        "age_range = (60, 100)\n",
        "\n",
        "def build_lstm_rnn(INPUT_SHAPE):\n",
        "    lstm_rnn = tf.keras.Sequential()\n",
        "    lstm_rnn.add(tf.keras.layers.LSTM(100, return_sequences=True, input_shape=INPUT_SHAPE))\n",
        "    lstm_rnn.add(tf.keras.layers.LSTM(50, return_sequences=False))\n",
        "    lstm_rnn.add(tf.keras.layers.Dense(1, activation=\"sigmoid\"))\n",
        "    lstm_rnn.compile(loss = \"binary_crossentropy\", optimizer = \"adam\", metrics = [\"accuracy\"])\n",
        "    return lstm_rnn"
      ]
    },
    {
      "cell_type": "code",
      "execution_count": 26,
      "metadata": {},
      "outputs": [
        {
          "name": "stdout",
          "output_type": "stream",
          "text": [
            "1/1 [==============================] - 1s 759ms/step\n",
            "1/1 [==============================] - 1s 743ms/step\n",
            "1/1 [==============================] - 1s 733ms/step\n",
            "Accuracy List: [0.65, 0.45, 0.5]\n",
            "Recall List: [1.0, 1.0, 1.0]\n",
            "Precision List: [1.0, 1.0, 1.0]\n"
          ]
        },
        {
          "data": {
            "image/png": "[encoded data removed]",
            "text/plain": [
              "<Figure size 432x288 with 2 Axes>"
            ]
          },
          "metadata": {
            "needs_background": "light"
          },
          "output_type": "display_data"
        },
        {
          "data": {
            "image/png": "[encoded data removed]",
            "text/plain": [
              "<Figure size 432x288 with 2 Axes>"
            ]
          },
          "metadata": {
            "needs_background": "light"
          },
          "output_type": "display_data"
        },
        {
          "data": {
            "image/png": "[encoded data removed]",
            "text/plain": [
              "<Figure size 432x288 with 2 Axes>"
            ]
          },
          "metadata": {
            "needs_background": "light"
          },
          "output_type": "display_data"
        }
      ],
      "source": [
        "accuracy_list_lstm = []\n",
        "recall_list_lstm = []\n",
        "precision_list_lstm = []\n",
        "for _ in range(3):\n",
        "    N = 100\n",
        "    m = 5\n",
        "\n",
        "    Y = eta = np.zeros((N, m))\n",
        "    Age = np.random.choice(range(age_range[0], age_range[1] + 1), size=N)\n",
        "    MMSE = np.round(np.random.normal(mu_MMSE, sigma_MMSE, size=N))\n",
        "    EDUC = np.round(np.random.normal(mu_EDUC, sigma_EDUC, size=N))\n",
        "    Sex = np.random.binomial(1, 0.2, size=N)\n",
        "    eTIV = np.round(np.random.normal(mu_eTIV, sigma_eTIV, size=N))\n",
        "    ASF = np.random.normal(size=N)\n",
        "    nWBV = np.random.normal(size=N)\n",
        "    Visit = np.round(np.linspace(0, 4, num=m))\n",
        "\n",
        "    B = np.array([0.1, -0.1, 0.2, -0.2, 0.3, 0.3, 0.1, 0.1, 0.2, 0.1])\n",
        "    b = np.random.normal(0, 0.5, size = N)\n",
        "\n",
        "    for i in range(N):\n",
        "        for j in range(m):\n",
        "            eta[i, j] = B[0] + B[1] * Visit[j] + B[2] * Age[i] + B[3] * MMSE[i] + B[4] * EDUC[i] + B[5] * Sex[i] + \\\n",
        "                        B[6] * eTIV[i] + B[7] * ASF[i] + B[8] * nWBV[i] + b[i]\n",
        "            p = scipy.special.expit(eta[i, j])\n",
        "            Y[i, j] = np.random.binomial(1, p)\n",
        "\n",
        "\n",
        "\n",
        "    mat = np.empty((N * m, 10))\n",
        "    p = 0\n",
        "    for i in range(N):\n",
        "        jk = 0\n",
        "        for jj in range(p, p + m):\n",
        "            mat[jj, 0] = i + 1\n",
        "            mat[jj, 1] = Visit[jk]\n",
        "            mat[jj, 2] = Age[i]\n",
        "            mat[jj, 3] = MMSE[i]\n",
        "            mat[jj, 4] = EDUC[i]\n",
        "            mat[jj, 5] = Sex[i]\n",
        "            mat[jj, 6] = eTIV[jk]\n",
        "            mat[jj, 7] = ASF[jk]\n",
        "            mat[jj, 8] = nWBV[jk]\n",
        "            mat[jj, 9] = Y[i, jk]\n",
        "            jk += 1\n",
        "        p += m\n",
        "    # Convert the `mat` array to a DataFrame\n",
        "    df_mat = pd.DataFrame(mat, columns=['ID', 'Visit', 'Age', 'MMSE', 'EDUC', 'Sex', 'eTIV', 'ASF', 'nWBV', 'Y'])\n",
        "    df = pd.get_dummies(df_mat, columns=[\"Visit\"], prefix=\"Visit\")\n",
        "    RANDOM_STATE = 13\n",
        "    splitter = GroupShuffleSplit(test_size=.20, n_splits=1, random_state=RANDOM_STATE)\n",
        "    split = splitter.split(df, groups=df['ID'])\n",
        "    train_indexes, test_indexes = next(split)\n",
        "\n",
        "    X_train = df.iloc[train_indexes]\n",
        "    X_test = df.iloc[test_indexes]\n",
        "    age_scaler = MinMaxScaler()\n",
        "    educ_scaler = MinMaxScaler()\n",
        "    mmse_scaler = MinMaxScaler()\n",
        "    etiv_scaler = MinMaxScaler()\n",
        "\n",
        "    age_scaler.fit(X_train[\"Age\"].to_numpy().reshape(-1, 1))\n",
        "    educ_scaler.fit(X_train[\"EDUC\"].to_numpy().reshape(-1, 1))\n",
        "    mmse_scaler.fit(X_train[\"MMSE\"].to_numpy().reshape(-1, 1))\n",
        "    etiv_scaler.fit(X_train[\"eTIV\"].to_numpy().reshape(-1, 1))\n",
        "\n",
        "    X_train[\"Age\"] = age_scaler.transform(X_train[\"Age\"].to_numpy().reshape(-1, 1))\n",
        "    X_train[\"EDUC\"] = educ_scaler.transform(X_train[\"EDUC\"].to_numpy().reshape(-1, 1))\n",
        "    X_train[\"MMSE\"] = mmse_scaler.transform(X_train[\"MMSE\"].to_numpy().reshape(-1, 1))\n",
        "    X_train[\"eTIV\"] = etiv_scaler.transform(X_train[\"eTIV\"].to_numpy().reshape(-1, 1))\n",
        "\n",
        "    X_test[\"Age\"] = age_scaler.transform(X_test[\"Age\"].to_numpy().reshape(-1, 1))\n",
        "    X_test[\"EDUC\"] = educ_scaler.transform(X_test[\"EDUC\"].to_numpy().reshape(-1, 1))\n",
        "    X_test[\"MMSE\"] = mmse_scaler.transform(X_test[\"MMSE\"].to_numpy().reshape(-1, 1))\n",
        "    X_test[\"eTIV\"] = mmse_scaler.transform(X_test[\"eTIV\"].to_numpy().reshape(-1, 1))\n",
        "    visit_4_train = X_train[X_train[\"Visit_4.0\"] == 1][[\"ID\", \"Y\"]]\n",
        "    y_train_final = []\n",
        "    for id in X_train[\"ID\"].unique():\n",
        "        y_train_final.append(visit_4_train[visit_4_train[\"ID\"] == id][\"Y\"].values[0])\n",
        "\n",
        "    visit_4_test = X_test[X_test[\"Visit_4.0\"] == 1][[\"ID\", \"Y\"]]\n",
        "    y_test_final = []\n",
        "    for id in X_test[\"ID\"].unique():\n",
        "        y_test_final.append(visit_4_test[visit_4_test[\"ID\"] == id][\"Y\"].values[0])\n",
        "\n",
        "\n",
        "    y_train_super_final = pd.DataFrame({\n",
        "    \"Group\": y_train_final})\n",
        "    y_test_super_final = pd.DataFrame({\n",
        "    \"Group\": y_test_final})\n",
        "    X_test_final = X_test.drop([\"ID\"], axis = 1)\n",
        "    X_train_final = X_train.drop([\"ID\"], axis = 1)\n",
        "    rows_n = 5\n",
        "    X_train_super_final = np.reshape(X_train_final.to_numpy(),(X_train_final.shape[0]//5,X_train_final.shape[1],rows_n))\n",
        "    X_test_super_final = np.reshape(X_test_final.to_numpy(),(X_test_final.shape[0]//5,X_train_final.shape[1],rows_n))\n",
        "    EPOCH_NUM = 3\n",
        "    lstm_rnn = build_lstm_rnn((X_train_super_final.shape[1],X_train_super_final.shape[2]) )\n",
        "    lstm_rnn.fit(X_train_super_final, y_train_super_final, epochs = EPOCH_NUM, verbose = 0)\n",
        "    not_final_lstm_rnn_prediction = lstm_rnn.predict(X_test_super_final)\n",
        "    lstm_rnn_prediction = np.where(not_final_lstm_rnn_prediction > 0.5, 1, 0)\n",
        "    lstm_rnn_conf = confusion_matrix(y_test_super_final,lstm_rnn_prediction)\n",
        "    lstm_rnn_plot_conf = ConfusionMatrixDisplay(lstm_rnn_conf)\n",
        "    lstm_rnn_plot_conf.plot()    \n",
        "    TP=lstm_rnn_conf[1,1]\n",
        "    FP=lstm_rnn_conf[0,1]\n",
        "    TN=lstm_rnn_conf[0,0]\n",
        "    FN=lstm_rnn_conf[1,0]\n",
        "    accuracy=(TP+TN)/(TP+FP+FN+TN)\n",
        "    recall =TP/(TP+FN)\n",
        "    precision =TP/(TP+TN)\n",
        "    accuracy_list_lstm.append(accuracy)\n",
        "    recall_list_lstm.append(recall)\n",
        "    precision_list_lstm.append(precision)\n",
        "\n",
        "print(\"Accuracy List:\", accuracy_list_lstm)\n",
        "print(\"Recall List:\", recall_list_lstm)\n",
        "print(\"Precision List:\", precision_list_lstm)"
      ]
    },
    {
      "cell_type": "code",
      "execution_count": 27,
      "metadata": {},
      "outputs": [
        {
          "name": "stdout",
          "output_type": "stream",
          "text": [
            "mean_accuracy: 0.5333333333333333 mean_recall: 1.0 mean_precision: 1.0\n"
          ]
        }
      ],
      "source": [
        "mean_accuracy_list_lstm = np.mean(accuracy_list_lstm)\n",
        "mean_recall_list_lstm = np.mean(recall_list_lstm)\n",
        "mean_precision_list_lstm = np.mean(precision_list_lstm)\n",
        "print(\"mean_accuracy:\",mean_accuracy_list_lstm, \"mean_recall:\",mean_recall_list_lstm,\"mean_precision:\",mean_precision_list_lstm)"
      ]
    },
    {
      "attachments": {},
      "cell_type": "markdown",
      "metadata": {},
      "source": [
        "# GRU"
      ]
    },
    {
      "cell_type": "code",
      "execution_count": 28,
      "metadata": {
        "id": "0yaMUJUFNqbX"
      },
      "outputs": [],
      "source": [
        "def build_gru_rnn(INPUT_SHAPE):\n",
        "    gru_rnn = tf.keras.Sequential()\n",
        "    gru_rnn.add(tf.keras.layers.GRU(100, return_sequences = True,input_shape = INPUT_SHAPE) )\n",
        "    gru_rnn.add(tf.keras.layers.GRU(50,return_sequences = False))\n",
        "    gru_rnn.add(tf.keras.layers.Dense(1,activation = \"sigmoid\"))\n",
        "    gru_rnn.compile(loss = \"binary_crossentropy\", optimizer = \"adam\", metrics = [\"accuracy\"])\n",
        "    return gru_rnn"
      ]
    },
    {
      "cell_type": "code",
      "execution_count": 29,
      "metadata": {
        "id": "XczazMdmHCKo"
      },
      "outputs": [
        {
          "name": "stdout",
          "output_type": "stream",
          "text": [
            "1/1 [==============================] - 1s 650ms/step\n",
            "1/1 [==============================] - 1s 698ms/step\n",
            "1/1 [==============================] - 1s 731ms/step\n",
            "Accuracy List: [0.6, 0.55, 0.45]\n",
            "Recall List: [0.0, 1.0, 0.0]\n",
            "Precision List: [0.0, 1.0, 0.0]\n"
          ]
        },
        {
          "data": {
            "image/png": "[encoded data removed]",
            "text/plain": [
              "<Figure size 432x288 with 2 Axes>"
            ]
          },
          "metadata": {
            "needs_background": "light"
          },
          "output_type": "display_data"
        },
        {
          "data": {
            "image/png": "[encoded data removed]",
            "text/plain": [
              "<Figure size 432x288 with 2 Axes>"
            ]
          },
          "metadata": {
            "needs_background": "light"
          },
          "output_type": "display_data"
        },
        {
          "data": {
            "image/png": "[encoded data removed]",
            "text/plain": [
              "<Figure size 432x288 with 2 Axes>"
            ]
          },
          "metadata": {
            "needs_background": "light"
          },
          "output_type": "display_data"
        }
      ],
      "source": [
        "accuracy_list_gru = []\n",
        "recall_list_gru = []\n",
        "precision_list_gru = []\n",
        "for _ in range(3):\n",
        "    N = 100\n",
        "    m = 5\n",
        "\n",
        "    Y = eta = np.zeros((N, m))\n",
        "    Age = np.random.choice(range(age_range[0], age_range[1] + 1), size=N)\n",
        "    MMSE = np.round(np.random.normal(mu_MMSE, sigma_MMSE, size=N))\n",
        "    EDUC = np.round(np.random.normal(mu_EDUC, sigma_EDUC, size=N))\n",
        "    Sex = np.random.binomial(1, 0.2, size=N)\n",
        "    eTIV = np.round(np.random.normal(mu_eTIV, sigma_eTIV, size=N))\n",
        "    ASF = np.random.normal(size=N)\n",
        "    nWBV = np.random.normal(size=N)\n",
        "    Visit = np.round(np.linspace(0, 4, num=m))\n",
        "\n",
        "    B = np.array([0.1, -0.1, 0.2, -0.2, 0.3, 0.3, 0.1, 0.1, 0.2, 0.1])\n",
        "    b = np.random.normal(0, 0.5, size = N)\n",
        "\n",
        "    for i in range(N):\n",
        "        for j in range(m):\n",
        "            eta[i, j] = B[0] + B[1] * Visit[j] + B[2] * Age[i] + B[3] * MMSE[i] + B[4] * EDUC[i] + B[5] * Sex[i] + \\\n",
        "                        B[6] * eTIV[i] + B[7] * ASF[i] + B[8] * nWBV[i] + b[i]\n",
        "            p = scipy.special.expit(eta[i, j])\n",
        "            Y[i, j] = np.random.binomial(1, p)\n",
        "\n",
        "\n",
        "\n",
        "    mat = np.empty((N * m, 10))\n",
        "    p = 0\n",
        "    for i in range(N):\n",
        "        jk = 0\n",
        "        for jj in range(p, p + m):\n",
        "            mat[jj, 0] = i + 1\n",
        "            mat[jj, 1] = Visit[jk]\n",
        "            mat[jj, 2] = Age[i]\n",
        "            mat[jj, 3] = MMSE[i]\n",
        "            mat[jj, 4] = EDUC[i]\n",
        "            mat[jj, 5] = Sex[i]\n",
        "            mat[jj, 6] = eTIV[jk]\n",
        "            mat[jj, 7] = ASF[jk]\n",
        "            mat[jj, 8] = nWBV[jk]\n",
        "            mat[jj, 9] = Y[i, jk]\n",
        "            jk += 1\n",
        "        p += m\n",
        "    # Convert the `mat` array to a DataFrame\n",
        "    df_mat = pd.DataFrame(mat, columns=['ID', 'Visit', 'Age', 'MMSE', 'EDUC', 'Sex', 'eTIV', 'ASF', 'nWBV', 'Y'])\n",
        "    df = pd.get_dummies(df_mat, columns=[\"Visit\"], prefix=\"Visit\")\n",
        "    RANDOM_STATE = 13\n",
        "    splitter = GroupShuffleSplit(test_size=.20, n_splits=1, random_state=RANDOM_STATE)\n",
        "    split = splitter.split(df, groups=df['ID'])\n",
        "    train_indexes, test_indexes = next(split)\n",
        "\n",
        "    X_train = df.iloc[train_indexes]\n",
        "    X_test = df.iloc[test_indexes]\n",
        "    age_scaler = MinMaxScaler()\n",
        "    educ_scaler = MinMaxScaler()\n",
        "    mmse_scaler = MinMaxScaler()\n",
        "    etiv_scaler = MinMaxScaler()\n",
        "\n",
        "    age_scaler.fit(X_train[\"Age\"].to_numpy().reshape(-1, 1))\n",
        "    educ_scaler.fit(X_train[\"EDUC\"].to_numpy().reshape(-1, 1))\n",
        "    mmse_scaler.fit(X_train[\"MMSE\"].to_numpy().reshape(-1, 1))\n",
        "    etiv_scaler.fit(X_train[\"eTIV\"].to_numpy().reshape(-1, 1))\n",
        "\n",
        "    X_train[\"Age\"] = age_scaler.transform(X_train[\"Age\"].to_numpy().reshape(-1, 1))\n",
        "    X_train[\"EDUC\"] = educ_scaler.transform(X_train[\"EDUC\"].to_numpy().reshape(-1, 1))\n",
        "    X_train[\"MMSE\"] = mmse_scaler.transform(X_train[\"MMSE\"].to_numpy().reshape(-1, 1))\n",
        "    X_train[\"eTIV\"] = etiv_scaler.transform(X_train[\"eTIV\"].to_numpy().reshape(-1, 1))\n",
        "\n",
        "    X_test[\"Age\"] = age_scaler.transform(X_test[\"Age\"].to_numpy().reshape(-1, 1))\n",
        "    X_test[\"EDUC\"] = educ_scaler.transform(X_test[\"EDUC\"].to_numpy().reshape(-1, 1))\n",
        "    X_test[\"MMSE\"] = mmse_scaler.transform(X_test[\"MMSE\"].to_numpy().reshape(-1, 1))\n",
        "    X_test[\"eTIV\"] = mmse_scaler.transform(X_test[\"eTIV\"].to_numpy().reshape(-1, 1))\n",
        "    visit_4_train = X_train[X_train[\"Visit_4.0\"] == 1][[\"ID\", \"Y\"]]\n",
        "    y_train_final = []\n",
        "    for id in X_train[\"ID\"].unique():\n",
        "        y_train_final.append(visit_4_train[visit_4_train[\"ID\"] == id][\"Y\"].values[0])\n",
        "\n",
        "    visit_4_test = X_test[X_test[\"Visit_4.0\"] == 1][[\"ID\", \"Y\"]]\n",
        "    y_test_final = []\n",
        "    for id in X_test[\"ID\"].unique():\n",
        "        y_test_final.append(visit_4_test[visit_4_test[\"ID\"] == id][\"Y\"].values[0])\n",
        "\n",
        "\n",
        "    y_train_super_final = pd.DataFrame({\n",
        "    \"Group\": y_train_final})\n",
        "    y_test_super_final = pd.DataFrame({\n",
        "    \"Group\": y_test_final})\n",
        "    X_test_final = X_test.drop([\"ID\"], axis = 1)\n",
        "    X_train_final = X_train.drop([\"ID\"], axis = 1)\n",
        "    rows_n = 5\n",
        "    X_train_super_final = np.reshape(X_train_final.to_numpy(),(X_train_final.shape[0]//5,X_train_final.shape[1],rows_n))\n",
        "    X_test_super_final = np.reshape(X_test_final.to_numpy(),(X_test_final.shape[0]//5,X_train_final.shape[1],rows_n))\n",
        "    EPOCH_NUM = 3\n",
        "    gru_rnn = build_gru_rnn((X_train_super_final.shape[1],X_train_super_final.shape[2]) )\n",
        "    gru_rnn.fit(X_train_super_final, y_train_super_final, epochs = EPOCH_NUM, verbose = 0)\n",
        "    not_final_gru_rnn_prediction = gru_rnn.predict(X_test_super_final)\n",
        "    gru_rnn_prediction = np.where(not_final_gru_rnn_prediction > 0.5, 1, 0)\n",
        "    gru_rnn_conf = confusion_matrix(y_test_super_final,gru_rnn_prediction)\n",
        "    gru_rnn_plot_conf = ConfusionMatrixDisplay(gru_rnn_conf)\n",
        "    gru_rnn_plot_conf.plot()    \n",
        "    TP=gru_rnn_conf[1,1]\n",
        "    FP=gru_rnn_conf[0,1]\n",
        "    TN=gru_rnn_conf[0,0]\n",
        "    FN=gru_rnn_conf[1,0]\n",
        "    accuracy=(TP+TN)/(TP+FP+FN+TN)\n",
        "    recall =TP/(TP+FN)\n",
        "    precision =TP/(TP+TN)\n",
        "    accuracy_list_gru.append(accuracy)\n",
        "    recall_list_gru.append(recall)\n",
        "    precision_list_gru.append(precision)\n",
        "\n",
        "print(\"Accuracy List:\", accuracy_list_gru)\n",
        "print(\"Recall List:\", recall_list_gru)\n",
        "print(\"Precision List:\", precision_list_gru)"
      ]
    },
    {
      "cell_type": "code",
      "execution_count": 30,
      "metadata": {
        "id": "ZdmxTuQ5HCKr"
      },
      "outputs": [
        {
          "name": "stdout",
          "output_type": "stream",
          "text": [
            "Accuracy List: [0.6, 0.55, 0.45]\n"
          ]
        }
      ],
      "source": [
        "print(\"Accuracy List:\", accuracy_list_gru)"
      ]
    },
    {
      "cell_type": "code",
      "execution_count": 31,
      "metadata": {
        "id": "Qi-vd_pCLQUn"
      },
      "outputs": [
        {
          "name": "stdout",
          "output_type": "stream",
          "text": [
            "Recall List: [0.0, 1.0, 0.0]\n"
          ]
        }
      ],
      "source": [
        "print(\"Recall List:\", recall_list_gru)"
      ]
    },
    {
      "cell_type": "code",
      "execution_count": 32,
      "metadata": {
        "id": "UZz1mSZRLSGm"
      },
      "outputs": [
        {
          "name": "stdout",
          "output_type": "stream",
          "text": [
            "Precision List: [0.0, 1.0, 0.0]\n"
          ]
        }
      ],
      "source": [
        "print(\"Precision List:\", precision_list_gru)"
      ]
    },
    {
      "cell_type": "code",
      "execution_count": 33,
      "metadata": {
        "id": "8pA9Ui0RMkQV"
      },
      "outputs": [
        {
          "name": "stdout",
          "output_type": "stream",
          "text": [
            "mean_accuracy: 0.5333333333333333 mean_recall: 0.3333333333333333 mean_precision: 0.3333333333333333\n"
          ]
        }
      ],
      "source": [
        "mean_accuracy_list_gru = np.mean(accuracy_list_gru)\n",
        "mean_recall_list_gru = np.mean(recall_list_gru)\n",
        "mean_precision_list_gru = np.mean(precision_list_gru)\n",
        "print(\"mean_accuracy:\",mean_accuracy_list_gru, \"mean_recall:\",mean_recall_list_gru,\"mean_precision:\",mean_precision_list_gru)"
      ]
    }
  ],
  "metadata": {
    "colab": {
      "provenance": []
    },
    "kernelspec": {
      "display_name": "Python 3",
      "language": "python",
      "name": "python3"
    },
    "language_info": {
      "codemirror_mode": {
        "name": "ipython",
        "version": 3
      },
      "file_extension": ".py",
      "mimetype": "text/x-python",
      "name": "python",
      "nbconvert_exporter": "python",
      "pygments_lexer": "ipython3",
      "version": "3.10.6"
    },
    "orig_nbformat": 4
  },
  "nbformat": 4,
  "nbformat_minor": 0
}
